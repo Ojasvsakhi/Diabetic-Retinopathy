{
  "cells": [
    {
      "cell_type": "markdown",
      "id": "95913cf2",
      "metadata": {
        "id": "95913cf2"
      },
      "source": [
        "# Colab training notebook\n",
        "\n",
        "This notebook runs the existing training code from the repository on Google Colab (GPU runtime). It installs required packages, mounts Google Drive optionally for dataset/checkpoints, and calls the train entrypoint in `src/train.py` so functionality remains unchanged.\n",
        "\n",
        "Notes:\n",
        "- Make sure your dataset folder has `dr_labels.csv` and a `DR_images/` subfolder.\n",
        "- You can either upload the `data/` folder to Colab session storage, or mount Google Drive and point `--data-dir` to a folder on Drive.\n",
        "- If you prefer to run from a GitHub repo, upload this workspace to a public GitHub and use the git clone cell below."
      ]
    },
    {
      "cell_type": "code",
      "execution_count": 16,
      "id": "7ebe63f0",
      "metadata": {
        "id": "7ebe63f0"
      },
      "outputs": [],
      "source": [
        "# Install required packages (run once)\n",
        "# Runtime: select 'Runtime' -> 'Change runtime type' -> Hardware accelerator: GPU\n",
        "# Install CUDA-enabled PyTorch (Colab GPU runtime usually supports the latest stable CUDA).\n",
        "# This installs torch and torchvision with GPU support, then the remaining requirements.\n",
        "!pip install -q torch torchvision --extra-index-url https://download.pytorch.org/whl/cu117\n",
        "!pip install -r requirements_colab.txt --quiet"
      ]
    },
    {
      "cell_type": "code",
      "source": [
        "%cd /content"
      ],
      "metadata": {
        "id": "_UM2htiymZLy",
        "outputId": "82ec7f14-301b-430d-fd9a-df7823a3a72f",
        "colab": {
          "base_uri": "https://localhost:8080/",
          "height": 0
        }
      },
      "id": "_UM2htiymZLy",
      "execution_count": 12,
      "outputs": [
        {
          "output_type": "stream",
          "name": "stdout",
          "text": [
            "/content\n"
          ]
        }
      ]
    },
    {
      "cell_type": "code",
      "source": [
        "mkdir /content/Diabetic-Retinopathy"
      ],
      "metadata": {
        "id": "xy2FiYOMmgH-"
      },
      "id": "xy2FiYOMmgH-",
      "execution_count": 13,
      "outputs": []
    },
    {
      "cell_type": "code",
      "execution_count": 3,
      "id": "7270822f",
      "metadata": {
        "id": "7270822f",
        "outputId": "e7b26bb6-62aa-44c3-cc34-dbd9cfca1508",
        "colab": {
          "base_uri": "https://localhost:8080/",
          "height": 0
        }
      },
      "outputs": [
        {
          "output_type": "stream",
          "name": "stdout",
          "text": [
            "Cloning into '/content/Diabetic-Retinopathy'...\n",
            "remote: Enumerating objects: 37, done.\u001b[K\n",
            "remote: Counting objects: 100% (37/37), done.\u001b[K\n",
            "remote: Compressing objects: 100% (27/27), done.\u001b[K\n",
            "remote: Total 37 (delta 11), reused 32 (delta 7), pack-reused 0 (from 0)\u001b[K\n",
            "Receiving objects: 100% (37/37), 19.44 KiB | 19.44 MiB/s, done.\n",
            "Resolving deltas: 100% (11/11), done.\n",
            "/content/Diabetic-Retinopathy\n",
            "Mounted at /content/drive\n",
            "Using DATA_DIR = /content/drive/MyDrive/DR Dataset\n"
          ]
        }
      ],
      "source": [
        "\n",
        "!rm -rf /content/Diabetic-Retinopathy  # remove any previous copy\n",
        "!git clone https://github.com/Ojasvsakhi/Diabetic-Retinopathy.git /content/Diabetic-Retinopathy\n",
        "%cd /content/Diabetic-Retinopathy\n",
        "\n",
        "# Option 3: Mount Google Drive to access large datasets or persist checkpoints\n",
        "from google.colab import drive\n",
        "drive.mount('/content/drive')\n",
        "import os\n",
        "# Your dataset is in My Drive in the folder named exactly 'DR dataset'\n",
        "DATA_DIR = '/content/drive/MyDrive/DR Dataset'\n",
        "if not os.path.exists(DATA_DIR):\n",
        "    print('Warning: expected DATA_DIR not found:', DATA_DIR)\n",
        "else:\n",
        "    print('Using DATA_DIR =', DATA_DIR)"
      ]
    },
    {
      "cell_type": "code",
      "execution_count": 6,
      "id": "647479d1",
      "metadata": {
        "id": "647479d1",
        "outputId": "337220be-485a-4569-96ce-42fbfc68f0e3",
        "colab": {
          "base_uri": "https://localhost:8080/",
          "height": 0
        }
      },
      "outputs": [
        {
          "output_type": "stream",
          "name": "stderr",
          "text": [
            "/usr/local/lib/python3.12/dist-packages/torchvision/models/_utils.py:208: UserWarning: The parameter 'pretrained' is deprecated since 0.13 and may be removed in the future, please use 'weights' instead.\n",
            "  warnings.warn(\n",
            "/usr/local/lib/python3.12/dist-packages/torchvision/models/_utils.py:223: UserWarning: Arguments other than a weight enum or `None` for 'weights' are deprecated since 0.13 and may be removed in the future. The current behavior is equivalent to passing `weights=ResNet50_Weights.IMAGENET1K_V1`. You can also use `weights=ResNet50_Weights.DEFAULT` to get the most up-to-date weights.\n",
            "  warnings.warn(msg)\n",
            "Epoch 1/20 [train]: 100%|██████████| 25/25 [00:39<00:00,  1.57s/it, loss=1.5]\n",
            "Validation: 100%|██████████| 7/7 [00:10<00:00,  1.44s/it]\n"
          ]
        },
        {
          "output_type": "stream",
          "name": "stdout",
          "text": [
            "Epoch 1 validation -- acc: 0.5354 macro-F1: 0.2865\n"
          ]
        },
        {
          "output_type": "stream",
          "name": "stderr",
          "text": [
            "Epoch 2/20 [train]: 100%|██████████| 25/25 [00:39<00:00,  1.57s/it, loss=1.13]\n",
            "Validation: 100%|██████████| 7/7 [00:08<00:00,  1.26s/it]\n"
          ]
        },
        {
          "output_type": "stream",
          "name": "stdout",
          "text": [
            "Epoch 2 validation -- acc: 0.5556 macro-F1: 0.3301\n"
          ]
        },
        {
          "output_type": "stream",
          "name": "stderr",
          "text": [
            "Epoch 3/20 [train]: 100%|██████████| 25/25 [00:38<00:00,  1.56s/it, loss=0.867]\n",
            "Validation: 100%|██████████| 7/7 [00:09<00:00,  1.43s/it]\n"
          ]
        },
        {
          "output_type": "stream",
          "name": "stdout",
          "text": [
            "Epoch 3 validation -- acc: 0.6162 macro-F1: 0.3691\n"
          ]
        },
        {
          "output_type": "stream",
          "name": "stderr",
          "text": [
            "Epoch 4/20 [train]: 100%|██████████| 25/25 [00:39<00:00,  1.57s/it, loss=0.706]\n",
            "Validation: 100%|██████████| 7/7 [00:10<00:00,  1.43s/it]\n"
          ]
        },
        {
          "output_type": "stream",
          "name": "stdout",
          "text": [
            "Epoch 4 validation -- acc: 0.6061 macro-F1: 0.5092\n"
          ]
        },
        {
          "output_type": "stream",
          "name": "stderr",
          "text": [
            "Epoch 5/20 [train]: 100%|██████████| 25/25 [00:37<00:00,  1.51s/it, loss=0.502]\n",
            "Validation: 100%|██████████| 7/7 [00:09<00:00,  1.37s/it]\n"
          ]
        },
        {
          "output_type": "stream",
          "name": "stdout",
          "text": [
            "Epoch 5 validation -- acc: 0.5758 macro-F1: 0.4546\n"
          ]
        },
        {
          "output_type": "stream",
          "name": "stderr",
          "text": [
            "Epoch 6/20 [train]: 100%|██████████| 25/25 [00:39<00:00,  1.57s/it, loss=0.467]\n",
            "Validation: 100%|██████████| 7/7 [00:10<00:00,  1.43s/it]\n"
          ]
        },
        {
          "output_type": "stream",
          "name": "stdout",
          "text": [
            "Epoch 6 validation -- acc: 0.5354 macro-F1: 0.3927\n"
          ]
        },
        {
          "output_type": "stream",
          "name": "stderr",
          "text": [
            "Epoch 7/20 [train]: 100%|██████████| 25/25 [00:38<00:00,  1.53s/it, loss=0.335]\n",
            "Validation: 100%|██████████| 7/7 [00:08<00:00,  1.26s/it]\n"
          ]
        },
        {
          "output_type": "stream",
          "name": "stdout",
          "text": [
            "Epoch 7 validation -- acc: 0.5960 macro-F1: 0.3887\n"
          ]
        },
        {
          "output_type": "stream",
          "name": "stderr",
          "text": [
            "Epoch 8/20 [train]: 100%|██████████| 25/25 [00:38<00:00,  1.55s/it, loss=0.325]\n",
            "Validation: 100%|██████████| 7/7 [00:09<00:00,  1.42s/it]\n"
          ]
        },
        {
          "output_type": "stream",
          "name": "stdout",
          "text": [
            "Epoch 8 validation -- acc: 0.6162 macro-F1: 0.4697\n"
          ]
        },
        {
          "output_type": "stream",
          "name": "stderr",
          "text": [
            "Epoch 9/20 [train]: 100%|██████████| 25/25 [00:38<00:00,  1.54s/it, loss=0.316]\n",
            "Validation: 100%|██████████| 7/7 [00:08<00:00,  1.22s/it]\n"
          ]
        },
        {
          "output_type": "stream",
          "name": "stdout",
          "text": [
            "Epoch 9 validation -- acc: 0.6263 macro-F1: 0.5456\n"
          ]
        },
        {
          "output_type": "stream",
          "name": "stderr",
          "text": [
            "Epoch 10/20 [train]: 100%|██████████| 25/25 [00:39<00:00,  1.56s/it, loss=0.268]\n",
            "Validation: 100%|██████████| 7/7 [00:10<00:00,  1.44s/it]\n"
          ]
        },
        {
          "output_type": "stream",
          "name": "stdout",
          "text": [
            "Epoch 10 validation -- acc: 0.5960 macro-F1: 0.5341\n"
          ]
        },
        {
          "output_type": "stream",
          "name": "stderr",
          "text": [
            "Epoch 11/20 [train]: 100%|██████████| 25/25 [00:38<00:00,  1.56s/it, loss=0.179]\n",
            "Validation: 100%|██████████| 7/7 [00:08<00:00,  1.23s/it]\n"
          ]
        },
        {
          "output_type": "stream",
          "name": "stdout",
          "text": [
            "Epoch 11 validation -- acc: 0.5657 macro-F1: 0.5396\n"
          ]
        },
        {
          "output_type": "stream",
          "name": "stderr",
          "text": [
            "Epoch 12/20 [train]: 100%|██████████| 25/25 [00:39<00:00,  1.57s/it, loss=0.166]\n",
            "Validation: 100%|██████████| 7/7 [00:10<00:00,  1.45s/it]\n"
          ]
        },
        {
          "output_type": "stream",
          "name": "stdout",
          "text": [
            "Epoch 12 validation -- acc: 0.6061 macro-F1: 0.5834\n"
          ]
        },
        {
          "output_type": "stream",
          "name": "stderr",
          "text": [
            "Epoch 13/20 [train]: 100%|██████████| 25/25 [00:38<00:00,  1.55s/it, loss=0.204]\n",
            "Validation: 100%|██████████| 7/7 [00:08<00:00,  1.25s/it]\n"
          ]
        },
        {
          "output_type": "stream",
          "name": "stdout",
          "text": [
            "Epoch 13 validation -- acc: 0.5960 macro-F1: 0.5461\n"
          ]
        },
        {
          "output_type": "stream",
          "name": "stderr",
          "text": [
            "Epoch 14/20 [train]: 100%|██████████| 25/25 [00:39<00:00,  1.56s/it, loss=0.202]\n",
            "Validation: 100%|██████████| 7/7 [00:10<00:00,  1.43s/it]\n"
          ]
        },
        {
          "output_type": "stream",
          "name": "stdout",
          "text": [
            "Epoch 14 validation -- acc: 0.6566 macro-F1: 0.5063\n"
          ]
        },
        {
          "output_type": "stream",
          "name": "stderr",
          "text": [
            "Epoch 15/20 [train]: 100%|██████████| 25/25 [00:39<00:00,  1.56s/it, loss=0.235]\n",
            "Validation: 100%|██████████| 7/7 [00:09<00:00,  1.38s/it]\n"
          ]
        },
        {
          "output_type": "stream",
          "name": "stdout",
          "text": [
            "Epoch 15 validation -- acc: 0.5960 macro-F1: 0.4548\n"
          ]
        },
        {
          "output_type": "stream",
          "name": "stderr",
          "text": [
            "Epoch 16/20 [train]: 100%|██████████| 25/25 [00:37<00:00,  1.51s/it, loss=0.193]\n",
            "Validation: 100%|██████████| 7/7 [00:09<00:00,  1.43s/it]\n"
          ]
        },
        {
          "output_type": "stream",
          "name": "stdout",
          "text": [
            "Epoch 16 validation -- acc: 0.6263 macro-F1: 0.5106\n"
          ]
        },
        {
          "output_type": "stream",
          "name": "stderr",
          "text": [
            "Epoch 17/20 [train]: 100%|██████████| 25/25 [00:39<00:00,  1.56s/it, loss=0.169]\n",
            "Validation: 100%|██████████| 7/7 [00:10<00:00,  1.45s/it]\n"
          ]
        },
        {
          "output_type": "stream",
          "name": "stdout",
          "text": [
            "Epoch 17 validation -- acc: 0.5960 macro-F1: 0.5671\n"
          ]
        },
        {
          "output_type": "stream",
          "name": "stderr",
          "text": [
            "Epoch 18/20 [train]: 100%|██████████| 25/25 [00:37<00:00,  1.51s/it, loss=0.171]\n",
            "Validation: 100%|██████████| 7/7 [00:09<00:00,  1.39s/it]\n"
          ]
        },
        {
          "output_type": "stream",
          "name": "stdout",
          "text": [
            "Epoch 18 validation -- acc: 0.6465 macro-F1: 0.5529\n"
          ]
        },
        {
          "output_type": "stream",
          "name": "stderr",
          "text": [
            "Epoch 19/20 [train]: 100%|██████████| 25/25 [00:38<00:00,  1.55s/it, loss=0.143]\n",
            "Validation: 100%|██████████| 7/7 [00:10<00:00,  1.45s/it]\n"
          ]
        },
        {
          "output_type": "stream",
          "name": "stdout",
          "text": [
            "Epoch 19 validation -- acc: 0.7172 macro-F1: 0.6314\n"
          ]
        },
        {
          "output_type": "stream",
          "name": "stderr",
          "text": [
            "Epoch 20/20 [train]: 100%|██████████| 25/25 [00:38<00:00,  1.53s/it, loss=0.0921]\n",
            "Validation: 100%|██████████| 7/7 [00:08<00:00,  1.25s/it]"
          ]
        },
        {
          "output_type": "stream",
          "name": "stdout",
          "text": [
            "Epoch 20 validation -- acc: 0.6263 macro-F1: 0.4901\n"
          ]
        },
        {
          "output_type": "stream",
          "name": "stderr",
          "text": [
            "\n"
          ]
        }
      ],
      "source": [
        "\n",
        "\n",
        "import sys, os\n",
        "# make sure src is on PYTHONPATH (adjust if you cloned into a subfolder)\n",
        "repo_src = os.path.join(os.getcwd(), 'src')\n",
        "if os.path.exists(repo_src):\n",
        "    sys.path.insert(0, repo_src)\n",
        "else:\n",
        "    sys.path.append('src')\n",
        "\n",
        "# parse args similar to running `python -m src.train`\n",
        "from argparse import Namespace\n",
        "from src.train import train\n",
        "\n",
        "args = Namespace(\n",
        "    data_dir=DATA_DIR,  # using your Drive folder 'DR dataset'\n",
        "    epochs=20,\n",
        "    batch_size=16,\n",
        "    img_size=224,\n",
        "    lr=1e-4,\n",
        "    num_workers=2\n",
        ")\n",
        "\n",
        "# Kick off training\n",
        "train(args)"
      ]
    }
  ],
  "metadata": {
    "language_info": {
      "name": "python"
    },
    "colab": {
      "provenance": [],
      "gpuType": "T4"
    },
    "kernelspec": {
      "name": "python3",
      "display_name": "Python 3"
    },
    "accelerator": "GPU"
  },
  "nbformat": 4,
  "nbformat_minor": 5
}