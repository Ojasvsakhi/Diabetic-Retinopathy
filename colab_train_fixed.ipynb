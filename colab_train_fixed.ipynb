{
 "cells": [
  {
   "cell_type": "markdown",
   "id": "95913cf2",
   "metadata": {},
   "source": [
    "# Colab training notebook\n",
    "\n",
    "This notebook runs the existing training code from the repository on Google Colab (GPU runtime). It installs required packages, mounts Google Drive optionally for dataset/checkpoints, and calls the train entrypoint in `src/train.py` so functionality remains unchanged.\n",
    "\n",
    "Notes:\n",
    "- Make sure your dataset folder has `dr_labels.csv` and a `DR_images/` subfolder.\n",
    "- You can either upload the `data/` folder to Colab session storage, or mount Google Drive and point `--data-dir` to a folder on Drive.\n",
    "- If you prefer to run from a GitHub repo, upload this workspace to a public GitHub and use the git clone cell below."
   ]
  },
  {
   "cell_type": "code",
   "execution_count": null,
   "id": "7ebe63f0",
   "metadata": {},
   "outputs": [],
   "source": [
    "# Install required packages (run once)\n",
    "# Runtime: select 'Runtime' -> 'Change runtime type' -> Hardware accelerator: GPU\n",
    "# Install CUDA-enabled PyTorch (Colab GPU runtime usually supports the latest stable CUDA).\n",
    "# This installs torch and torchvision with GPU support, then the remaining requirements.\n",
    "!pip install -q torch torchvision --extra-index-url https://download.pytorch.org/whl/cu117\n",
    "!pip install -r requirements_colab.txt --quiet"
   ]
  },
  {
   "cell_type": "code",
   "execution_count": null,
   "id": "7270822f",
   "metadata": {},
   "outputs": [],
   "source": [
    "# Option 1: Auto-clone your GitHub repo into the Colab session (recommended).\n",
    "# This will clone https://github.com/Ojasvsakhi/Diabetic-Retinopathy into /content/Diabetic-Retinopathy\n",
    "!rm -rf /content/Diabetic-Retinopathy  # remove any previous copy\n",
    "!git clone https://github.com/Ojasvsakhi/Diabetic-Retinopathy.git /content/Diabetic-Retinopathy\n",
    "%cd /content/Diabetic-Retinopathy\n",
    "\n",
    "# Option 2: If you uploaded the repository as a zip, you can unzip it here.\n",
    "# from google.colab import files\n",
    "# uploaded = files.upload()\n",
    "# !unzip uploaded_repo.zip -d .\n",
    "\n",
    "# Option 3: Mount Google Drive to access large datasets or persist checkpoints\n",
    "from google.colab import drive\n",
    "drive.mount('/content/drive')\n",
    "import os\n",
    "# Your dataset is in My Drive in the folder named exactly 'DR dataset'\n",
    "DATA_DIR = '/content/drive/MyDrive/DR dataset'\n",
    "if not os.path.exists(DATA_DIR):\n",
    "    print('Warning: expected DATA_DIR not found:', DATA_DIR)\n",
    "else:\n",
    "    print('Using DATA_DIR =', DATA_DIR)\n",
    "# Create a Drive-backed checkpoints folder and symlink it into the repo to persist models\n",
    "DRIVE_CKPT_DIR = os.path.join('/content/drive/MyDrive', 'Diabetic-Retinopathy-checkpoints')\n",
    "os.makedirs(DRIVE_CKPT_DIR, exist_ok=True)\n",
    "repo_ckpt = os.path.join(os.getcwd(), 'checkpoints')\n",
    "if not os.path.exists(repo_ckpt):\n",
    "    try:\n",
    "        os.symlink(DRIVE_CKPT_DIR, repo_ckpt)\n",
    "        print('Created symlink for checkpoints ->', DRIVE_CKPT_DIR)\n",
    "    except Exception as e:\n",
    "        print('Symlink failed, creating local checkpoints folder; error:', e)\n",
    "        os.makedirs(repo_ckpt, exist_ok=True)\n",
    "else:\n",
    "    print('checkpoints folder exists at', repo_ckpt)"
   ]
  },
  {
   "cell_type": "code",
   "execution_count": null,
   "id": "647479d1",
   "metadata": {},
   "outputs": [],
   "source": [
    "# Run training using the same entrypoint as locally. Adjust --data-dir to your data location.\n",
    "# Examples:\n",
    "# If you mounted drive and data is in MyDrive/datasets/DR: --data-dir /content/drive/MyDrive/datasets/DR\n",
    "# If you uploaded data to the Colab session under ./data: --data-dir data\n",
    "\n",
    "import sys, os\n",
    "# make sure src is on PYTHONPATH (adjust if you cloned into a subfolder)\n",
    "repo_src = os.path.join(os.getcwd(), 'src')\n",
    "if os.path.exists(repo_src):\n",
    "    sys.path.insert(0, repo_src)\n",
    "else:\n",
    "    sys.path.append('src')\n",
    "\n",
    "# parse args similar to running `python -m src.train`\n",
    "from argparse import Namespace\n",
    "from src.train import train\n",
    "\n",
    "args = Namespace(\n",
    "    data_dir=DATA_DIR,  # using your Drive folder 'DR dataset'\n",
    "    epochs=5,\n",
    "    batch_size=16,\n",
    "    img_size=224,\n",
    "    lr=1e-4,\n",
    "    num_workers=2\n",
    ")\n",
    "\n",
    "# Kick off training\n",
    "train(args)"
   ]
  }
 ],
 "metadata": {
  "language_info": {
   "name": "python"
  }
 },
 "nbformat": 4,
 "nbformat_minor": 5
}
